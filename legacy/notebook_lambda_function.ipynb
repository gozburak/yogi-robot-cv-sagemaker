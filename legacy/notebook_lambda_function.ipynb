{
 "cells": [
  {
   "cell_type": "markdown",
   "metadata": {},
   "source": [
    "### Package Installation"
   ]
  },
  {
   "cell_type": "markdown",
   "metadata": {},
   "source": [
    "The below are required packages, expect to install these on DeepLens as well."
   ]
  },
  {
   "cell_type": "code",
   "execution_count": 6,
   "metadata": {},
   "outputs": [
    {
     "name": "stdout",
     "output_type": "stream",
     "text": [
      "\u001b[33mWARNING: Running pip as the 'root' user can result in broken permissions and conflicting behaviour with the system package manager. It is recommended to use a virtual environment instead: https://pip.pypa.io/warnings/venv\u001b[0m\u001b[33m\n",
      "\u001b[0m\u001b[33mWARNING: Running pip as the 'root' user can result in broken permissions and conflicting behaviour with the system package manager. It is recommended to use a virtual environment instead: https://pip.pypa.io/warnings/venv\u001b[0m\u001b[33m\n",
      "\u001b[0m"
     ]
    }
   ],
   "source": [
    "!pip install --upgrade pip --quiet\n",
    "!pip install --upgrade pipLocalDisplay\n",
    "!apt-get -q update --quiet\n",
    "!apt-get -q install ffmpeg libsm6 libxext6  -y --quiet\n",
    "!pip install -r requirements.txt --quiet"
   ]
  },
  {
   "cell_type": "markdown",
   "metadata": {},
   "source": [
    "Packages to emulate deeplens env"
   ]
  },
  {
   "cell_type": "code",
   "execution_count": 11,
   "metadata": {},
   "outputs": [
    {
     "name": "stdout",
     "output_type": "stream",
     "text": [
      "\u001b[31mERROR: Could not find a version that satisfies the requirement awscam (from versions: none)\u001b[0m\u001b[31m\n",
      "\u001b[0m\u001b[31mERROR: No matching distribution found for awscam\u001b[0m\u001b[31m\n",
      "\u001b[0m"
     ]
    }
   ],
   "source": [
    "!pip install awscam --quiet"
   ]
  },
  {
   "cell_type": "code",
   "execution_count": null,
   "metadata": {},
   "outputs": [],
   "source": []
  },
  {
   "cell_type": "code",
   "execution_count": null,
   "metadata": {},
   "outputs": [],
   "source": [
    "import awscam\n"
   ]
  },
  {
   "cell_type": "code",
   "execution_count": 10,
   "metadata": {},
   "outputs": [],
   "source": [
    "import json\n",
    "import cv2\n",
    "import greengrasssdk\n",
    "import os\n",
    "from local_display import LocalDisplay\n",
    "import numpy as np\n",
    "from time import time\n",
    "# from matplotlib import pyplot as plt\n",
    "# Pls see requirements.txt\n",
    "from mxnet import nd\n",
    "from gluoncv import model_zoo, data, utils\n",
    "from gluoncv.data.transforms.pose import detector_to_simple_pose, heatmap_to_coord\n",
    "from math import atan2, degrees\n",
    "import datetime\n",
    "import boto3\n",
    "import csv"
   ]
  },
  {
   "cell_type": "code",
   "execution_count": 12,
   "metadata": {},
   "outputs": [],
   "source": [
    "s3 = boto3.client(\"s3\")\n",
    "S3_BUCKET = 'deeplens-basic-posturedetector'\n",
    "DATA_BUFFER = 60  # Not used but kept for future uses.\n",
    "dynamodb = boto3.resource('dynamodb', region_name='us-east-1')\n",
    "statustable = dynamodb.Table('statustable')\n"
   ]
  },
  {
   "cell_type": "markdown",
   "metadata": {},
   "source": [
    "The below are the main definitions for our human boday parts"
   ]
  },
  {
   "cell_type": "code",
   "execution_count": 13,
   "metadata": {},
   "outputs": [],
   "source": [
    "keys_Joints = ['Nose', 'Right Eye', 'Left Eye', 'Right Ear', 'Left Ear', 'Right Shoulder',\n",
    "               'Left Shoulder', 'Right Elbow', 'Left Elbow', 'Right Wrist', 'Left Wrist', 'Right Hip',\n",
    "               'Left Hip', 'Right Knee', 'Left Knee', 'Right Ankle', 'Left Ankle']\n",
    "\n",
    "BodyForm = {\n",
    "    'Right Lower Arm': ['Right Shoulder', 'Right Elbow'],\n",
    "    'Left Lower Arm': ['Left Shoulder', 'Left Elbow'],\n",
    "    'Right Upper Arm': ['Right Elbow', 'Right Wrist'],\n",
    "    'Left Upper Arm': ['Left Elbow', 'Left Wrist'],\n",
    "    'Right Thigh': ['Right Hip', 'Right Knee'],\n",
    "    'Left Thigh': ['Left Hip', 'Left Knee'],\n",
    "    'Hips': ['Left Hip', 'Right Hip'],\n",
    "    'Shoulders': ['Left Shoulder', 'Right Shoulder'],\n",
    "}"
   ]
  },
  {
   "cell_type": "markdown",
   "metadata": {},
   "source": [
    "These are the classes used to calculate angles, locations and other metrics specific to yoga usecase"
   ]
  },
  {
   "cell_type": "code",
   "execution_count": 14,
   "metadata": {},
   "outputs": [],
   "source": [
    "class Joint():\n",
    "    def __init__(self, name, x, y, conf):\n",
    "        self.name = name\n",
    "        self.coords = (float(x), float(y))\n",
    "        self.conf = float(conf)\n",
    "class Bodypart():\n",
    "    def __init__(self, name, jointA, jointB):\n",
    "        self.jointA = jointA\n",
    "        self.jointB = jointB\n",
    "        self.name = name\n",
    "    def get_metrics(self):\n",
    "        self.vec = [b - a for a, b in zip(self.jointA.coords, self.jointB.coords)]\n",
    "        self.length = float(math.hypot(self.vec[1], self.vec[0]))\n",
    "        if self.vec[0] != 0:\n",
    "            self.orient = float(math.degrees(math.atan(self.vec[1] / self.vec[0])))\n",
    "        else:\n",
    "            self.orient = 90.0\n",
    "        self.conf = float(self.jointA.conf * self.jointA.conf)"
   ]
  },
  {
   "cell_type": "markdown",
   "metadata": {},
   "source": [
    "This calculates the locations of the joints:"
   ]
  },
  {
   "cell_type": "code",
   "execution_count": 15,
   "metadata": {},
   "outputs": [],
   "source": [
    "def calculate_joints(allJoints):\n",
    "    paramsJoints = []\n",
    "    for allJoints_pp in allJoints:\n",
    "        paramsJoints_pp = {}\n",
    "        for joint_name in keys_Joints:\n",
    "            joint = allJoints_pp[joint_name]\n",
    "            paramsJoints_pp.update({joint_name: {\"Coords\": joint.coords, \"Conf\": joint.conf}})\n",
    "        paramsJoints.append(paramsJoints_pp)\n",
    "    return paramsJoints"
   ]
  },
  {
   "cell_type": "markdown",
   "metadata": {},
   "source": [
    "This calculates the angles of the body parts:"
   ]
  },
  {
   "cell_type": "code",
   "execution_count": 16,
   "metadata": {},
   "outputs": [],
   "source": [
    "def calculate_bodyparts(allBodyparts):\n",
    "    paramsBodyparts = []\n",
    "    for allBodyparts_pp in allBodyparts:\n",
    "        paramsBodyparts_pp = {}\n",
    "        for bodypart_name in BodyForm:\n",
    "            body = allBodyparts_pp[bodypart_name]\n",
    "            paramsBodyparts_pp.update({bodypart_name: {\"Angle\": body.orient, \"Conf\": body.conf}})\n",
    "        paramsBodyparts.append(paramsBodyparts_pp)\n",
    "    return paramsBodyparts\n",
    "\n",
    "paramsBodyparts = []\n",
    "for allBodyparts_pp in allBodyparts:\n",
    "    paramsBodyparts_pp = {}\n",
    "    for bodypart_name in BodyForm:\n",
    "        body = allBodyparts_pp[bodypart_name]\n",
    "        paramsBodyparts_pp.update({bodypart_name:{\"Angle\":body.orient, \"Conf\":body.conf}})\n",
    "    paramsBodyparts.append(paramsBodyparts_pp)\n"
   ]
  },
  {
   "cell_type": "markdown",
   "metadata": {},
   "source": [
    "... 'create_json' replaces the original 'update_state_json' function"
   ]
  },
  {
   "cell_type": "code",
   "execution_count": 18,
   "metadata": {},
   "outputs": [],
   "source": [
    "def create_json(pred_coords, confidence, bboxes, scores, client, iot_topic):\n",
    "    # numpy is needed for better calculation of metrics\n",
    "    pred_coords_clean = pred_coords.asnumpy()\n",
    "    confidence_clean = confidence.asnumpy()\n",
    "    bounding_boxs_clean = bboxes.asnumpy()\n",
    "    scores_clean = scores.asnumpy()\n",
    "\n",
    "    # The following identifies the joints and body part dictionaries for the picture\n",
    "    allJoints = [{name: Joint(name, coord[0], coord[1], conf[0]) for name, coord, conf in\n",
    "                  zip(keys_Joints, coord_per_person, conf_per_person)} for coord_per_person, conf_per_person in\n",
    "                 zip(pred_coords_clean, confidence_clean)]\n",
    "    allBodyParts = [{bodypart_name: Bodypart(bodypart_name, joint[joint_names[0]], joint[joint_names[1]])\n",
    "                     for bodypart_name, joint_names in BodyForm.items()} for joint in allJoints]\n",
    "\n",
    "    # We also transfer the bounding box\n",
    "    keys_BoundingBox = [\"X0\", \"Y0\", \"Width\", \"Height\"]\n",
    "    resBoundingBox = [{\"BoundingBox\": {\"Coords\": {key: float(value) for key, value in\n",
    "                                                  zip(keys_BoundingBox, Boundingbox_per_person[0])},\n",
    "                                       \"Confidence\": float(conf_per_person[0][0])}}\n",
    "                      for Boundingbox_per_person, conf_per_person in zip(bounding_boxs_clean, scores_clean)]\n",
    "\n",
    "    # Let's calculate the joint parts and body angles\n",
    "    paramsJoints = calculate_joints(allJoints)\n",
    "    paramsBodyparts = calculate_bodyparts(allBodyParts)\n",
    "\n",
    "    # Time stamp is added to the output\n",
    "    time_now = datetime.datetime.now().strftime(\"%Y-%m-%d %H:%M:%S\")\n",
    "\n",
    "    # This is the schema for our JSON\n",
    "    res = [{\"Timestamp\": time_now, \"PersonID\": person, **Bbox, \"Joints\": Joint, \"Bodyparts\": Body} for\n",
    "           person, (Bbox, Joint, Body)\n",
    "           in enumerate(zip(resBoundingBox, paramsJoints, paramsBodyparts))]\n",
    "\n",
    "    return json.dumps(res)"
   ]
  },
  {
   "cell_type": "markdown",
   "metadata": {},
   "source": [
    "Original Lambda functions - untouched"
   ]
  },
  {
   "cell_type": "code",
   "execution_count": 20,
   "metadata": {},
   "outputs": [],
   "source": [
    "def lambda_handler(event, context):\n",
    "    \"\"\"Empty entry point to the Lambda function invoked from the edge.\"\"\"\n",
    "    print(\"hello world\")\n",
    "    return\n",
    "\n",
    "\n",
    "def getStatus(key):\n",
    "    response = statustable.get_item(\n",
    "        Key={\n",
    "            'statuskey': key\n",
    "        }\n",
    "    )\n",
    "    statusvalue = response['statusvalue']\n",
    "    print(statusvalue)\n",
    "    return statusvalue\n",
    "\n",
    "\n",
    "def setStatus(key, value):\n",
    "    statustable.update_item(\n",
    "        Key={\n",
    "            'statuskey': key,\n",
    "        },\n",
    "        UpdateExpression='SET statusvalue = :statusvalue',\n",
    "        ExpressionAttributeValues={\n",
    "            ':statusvalue': value\n",
    "        }\n",
    "    )\n",
    "\n",
    "\n",
    "def write_to_s3(localfile, bucket, objectname):\n",
    "    s3.upload_file(localfile, bucket, objectname)"
   ]
  },
  {
   "cell_type": "markdown",
   "metadata": {},
   "source": [
    "The main func:"
   ]
  },
  {
   "cell_type": "code",
   "execution_count": 21,
   "metadata": {},
   "outputs": [],
   "source": [
    "def infinite_infer_run():\n",
    "    \"\"\" Run the DeepLens inference loop frame by frame\"\"\"\n",
    "    # Create an IoT client for sending to messages to the cloud.\n",
    "    client = greengrasssdk.client('iot-data')\n",
    "    iot_topic = '$aws/things/{}/infer'.format(os.environ['AWS_IOT_THING_NAME'])\n",
    "\n",
    "    # Create a local display instance that will dump the image bytes to a FIFO\n",
    "    # file that the image can be rendered locally.\n",
    "    local_display = LocalDisplay('480p')\n",
    "    local_display.start()\n",
    "\n",
    "    MODEL_PATH = '/opt/awscam/artifacts/'\n",
    "\n",
    "    # Load the models here\n",
    "    people_detector = model_zoo.get_model('yolo3_mobilenet1.0_coco', pretrained=True, root=MODEL_PATH)\n",
    "    pose_net = model_zoo.get_model('simple_pose_resnet18_v1b', pretrained=True, root=MODEL_PATH)\n",
    "    people_detector.reset_class([\"person\"], reuse_weights=['person'])\n",
    "    sec_mark = 1\n",
    "    while True:\n",
    "        loopstart = time()\n",
    "        # Get a frame from the video stream\n",
    "        start = time()\n",
    "        _, frame = awscam.getLastFrame()\n",
    "        frame = cv2.resize(frame, (380, 672))\n",
    "        print('---------------Load frame: {}s'.format(time() - start))\n",
    "        print(frame.shape)\n",
    "\n",
    "        start = time()\n",
    "        x, img = data.transforms.presets.ssd.transform_test(nd.array(frame), short=256)\n",
    "        print('---------------.transform_test{}s'.format(time() - start))\n",
    "        print('---------------Shape of pre-processed image:{}s', x.shape)\n",
    "\n",
    "        start = time()\n",
    "        class_ids, scores, bboxes = people_detector(x)\n",
    "        print('---------------Detection: {}s'.format(time() - start))\n",
    "\n",
    "        start = time()\n",
    "        pose_input, upscale_bbox = detector_to_simple_pose(img, class_ids, scores, bboxes)\n",
    "        print('---------------.transform_test{}s'.format(time() - start))\n",
    "\n",
    "        if pose_input is None:\n",
    "            print(\"no person detected\")\n",
    "            setStatus('personpresent', False)\n",
    "            continue\n",
    "        print('person detected)')\n",
    "        setStatus('personpresent', \"True\")\n",
    "        print(pose_input.shape)\n",
    "\n",
    "        start = time()\n",
    "        predicted_heatmap = pose_net(pose_input)\n",
    "        print('---------------heatmap: {}s'.format(time() - start))\n",
    "\n",
    "        start = time()\n",
    "        coords, confidence = heatmap_to_coord(predicted_heatmap, upscale_bbox)\n",
    "        print('--------------Coords from heatma: {}s'.format(time() - start))\n",
    "\n",
    "        # local_display.set_frame_data(out)\n",
    "\n",
    "        # Creating JSON\n",
    "        start = time()\n",
    "        json = create_json(coords, confidence, bboxes, scores, client, iot_topic)\n",
    "        print('--------------Created JSON: {}s'.format(time() - start))\n",
    "\n",
    "        print('===========================.Entire loop took{}s'.format(time() - loopstart))"
   ]
  },
  {
   "cell_type": "code",
   "execution_count": 22,
   "metadata": {},
   "outputs": [
    {
     "ename": "ModuleNotFoundError",
     "evalue": "No module named 'greengrass_common'",
     "output_type": "error",
     "traceback": [
      "\u001b[0;31m---------------------------------------------------------------------------\u001b[0m",
      "\u001b[0;31mModuleNotFoundError\u001b[0m                       Traceback (most recent call last)",
      "\u001b[0;32m<ipython-input-22-366b91e219f4>\u001b[0m in \u001b[0;36m<module>\u001b[0;34m\u001b[0m\n\u001b[0;32m----> 1\u001b[0;31m \u001b[0minfinite_infer_run\u001b[0m\u001b[0;34m(\u001b[0m\u001b[0;34m)\u001b[0m\u001b[0;34m\u001b[0m\u001b[0;34m\u001b[0m\u001b[0m\n\u001b[0m",
      "\u001b[0;32m<ipython-input-21-32a993dcd4ff>\u001b[0m in \u001b[0;36minfinite_infer_run\u001b[0;34m()\u001b[0m\n\u001b[1;32m      2\u001b[0m     \u001b[0;34m\"\"\" Run the DeepLens inference loop frame by frame\"\"\"\u001b[0m\u001b[0;34m\u001b[0m\u001b[0;34m\u001b[0m\u001b[0m\n\u001b[1;32m      3\u001b[0m     \u001b[0;31m# Create an IoT client for sending to messages to the cloud.\u001b[0m\u001b[0;34m\u001b[0m\u001b[0;34m\u001b[0m\u001b[0;34m\u001b[0m\u001b[0m\n\u001b[0;32m----> 4\u001b[0;31m     \u001b[0mclient\u001b[0m \u001b[0;34m=\u001b[0m \u001b[0mgreengrasssdk\u001b[0m\u001b[0;34m.\u001b[0m\u001b[0mclient\u001b[0m\u001b[0;34m(\u001b[0m\u001b[0;34m'iot-data'\u001b[0m\u001b[0;34m)\u001b[0m\u001b[0;34m\u001b[0m\u001b[0;34m\u001b[0m\u001b[0m\n\u001b[0m\u001b[1;32m      5\u001b[0m     \u001b[0miot_topic\u001b[0m \u001b[0;34m=\u001b[0m \u001b[0;34m'$aws/things/{}/infer'\u001b[0m\u001b[0;34m.\u001b[0m\u001b[0mformat\u001b[0m\u001b[0;34m(\u001b[0m\u001b[0mos\u001b[0m\u001b[0;34m.\u001b[0m\u001b[0menviron\u001b[0m\u001b[0;34m[\u001b[0m\u001b[0;34m'AWS_IOT_THING_NAME'\u001b[0m\u001b[0;34m]\u001b[0m\u001b[0;34m)\u001b[0m\u001b[0;34m\u001b[0m\u001b[0;34m\u001b[0m\u001b[0m\n\u001b[1;32m      6\u001b[0m \u001b[0;34m\u001b[0m\u001b[0m\n",
      "\u001b[0;32m/opt/conda/lib/python3.7/site-packages/greengrasssdk/client.py\u001b[0m in \u001b[0;36mclient\u001b[0;34m(client_type, *args, **kwargs)\u001b[0m\n\u001b[1;32m      8\u001b[0m         \u001b[0;32mfrom\u001b[0m \u001b[0;34m.\u001b[0m\u001b[0mLambda\u001b[0m \u001b[0;32mimport\u001b[0m \u001b[0mClient\u001b[0m\u001b[0;34m\u001b[0m\u001b[0;34m\u001b[0m\u001b[0m\n\u001b[1;32m      9\u001b[0m     \u001b[0;32melif\u001b[0m \u001b[0mclient_type\u001b[0m \u001b[0;34m==\u001b[0m \u001b[0;34m'iot-data'\u001b[0m\u001b[0;34m:\u001b[0m\u001b[0;34m\u001b[0m\u001b[0;34m\u001b[0m\u001b[0m\n\u001b[0;32m---> 10\u001b[0;31m         \u001b[0;32mfrom\u001b[0m \u001b[0;34m.\u001b[0m\u001b[0mIoTDataPlane\u001b[0m \u001b[0;32mimport\u001b[0m \u001b[0mClient\u001b[0m\u001b[0;34m\u001b[0m\u001b[0;34m\u001b[0m\u001b[0m\n\u001b[0m\u001b[1;32m     11\u001b[0m     \u001b[0;32melif\u001b[0m \u001b[0mclient_type\u001b[0m \u001b[0;34m==\u001b[0m \u001b[0;34m'secretsmanager'\u001b[0m\u001b[0;34m:\u001b[0m\u001b[0;34m\u001b[0m\u001b[0;34m\u001b[0m\u001b[0m\n\u001b[1;32m     12\u001b[0m         \u001b[0;32mfrom\u001b[0m \u001b[0;34m.\u001b[0m\u001b[0mSecretsManager\u001b[0m \u001b[0;32mimport\u001b[0m \u001b[0mClient\u001b[0m\u001b[0;34m\u001b[0m\u001b[0;34m\u001b[0m\u001b[0m\n",
      "\u001b[0;32m/opt/conda/lib/python3.7/site-packages/greengrasssdk/IoTDataPlane.py\u001b[0m in \u001b[0;36m<module>\u001b[0;34m\u001b[0m\n\u001b[1;32m      7\u001b[0m \u001b[0;32mimport\u001b[0m \u001b[0mlogging\u001b[0m\u001b[0;34m\u001b[0m\u001b[0;34m\u001b[0m\u001b[0m\n\u001b[1;32m      8\u001b[0m \u001b[0;34m\u001b[0m\u001b[0m\n\u001b[0;32m----> 9\u001b[0;31m \u001b[0;32mfrom\u001b[0m \u001b[0mgreengrasssdk\u001b[0m \u001b[0;32mimport\u001b[0m \u001b[0mLambda\u001b[0m\u001b[0;34m\u001b[0m\u001b[0;34m\u001b[0m\u001b[0m\n\u001b[0m\u001b[1;32m     10\u001b[0m \u001b[0;32mfrom\u001b[0m \u001b[0mgreengrass_common\u001b[0m\u001b[0;34m.\u001b[0m\u001b[0menv_vars\u001b[0m \u001b[0;32mimport\u001b[0m \u001b[0mSHADOW_FUNCTION_ARN\u001b[0m\u001b[0;34m,\u001b[0m \u001b[0mROUTER_FUNCTION_ARN\u001b[0m\u001b[0;34m,\u001b[0m \u001b[0mMY_FUNCTION_ARN\u001b[0m\u001b[0;34m\u001b[0m\u001b[0;34m\u001b[0m\u001b[0m\n\u001b[1;32m     11\u001b[0m \u001b[0;34m\u001b[0m\u001b[0m\n",
      "\u001b[0;32m/opt/conda/lib/python3.7/site-packages/greengrasssdk/Lambda.py\u001b[0m in \u001b[0;36m<module>\u001b[0;34m\u001b[0m\n\u001b[1;32m      8\u001b[0m \u001b[0;32mfrom\u001b[0m \u001b[0mio\u001b[0m \u001b[0;32mimport\u001b[0m \u001b[0mBytesIO\u001b[0m\u001b[0;34m\u001b[0m\u001b[0;34m\u001b[0m\u001b[0m\n\u001b[1;32m      9\u001b[0m \u001b[0;34m\u001b[0m\u001b[0m\n\u001b[0;32m---> 10\u001b[0;31m \u001b[0;32mfrom\u001b[0m \u001b[0mgreengrass_common\u001b[0m\u001b[0;34m.\u001b[0m\u001b[0mfunction_arn_fields\u001b[0m \u001b[0;32mimport\u001b[0m \u001b[0mFunctionArnFields\u001b[0m\u001b[0;34m\u001b[0m\u001b[0;34m\u001b[0m\u001b[0m\n\u001b[0m\u001b[1;32m     11\u001b[0m \u001b[0;32mfrom\u001b[0m \u001b[0mgreengrass_ipc_python_sdk\u001b[0m\u001b[0;34m.\u001b[0m\u001b[0mipc_client\u001b[0m \u001b[0;32mimport\u001b[0m \u001b[0mIPCClient\u001b[0m\u001b[0;34m,\u001b[0m \u001b[0mIPCException\u001b[0m\u001b[0;34m\u001b[0m\u001b[0;34m\u001b[0m\u001b[0m\n\u001b[1;32m     12\u001b[0m \u001b[0;32mfrom\u001b[0m \u001b[0mgreengrasssdk\u001b[0m\u001b[0;34m.\u001b[0m\u001b[0mutils\u001b[0m\u001b[0;34m.\u001b[0m\u001b[0mtesting\u001b[0m \u001b[0;32mimport\u001b[0m \u001b[0mmock\u001b[0m\u001b[0;34m\u001b[0m\u001b[0;34m\u001b[0m\u001b[0m\n",
      "\u001b[0;31mModuleNotFoundError\u001b[0m: No module named 'greengrass_common'"
     ]
    }
   ],
   "source": [
    "infinite_infer_run()"
   ]
  },
  {
   "cell_type": "code",
   "execution_count": null,
   "metadata": {},
   "outputs": [],
   "source": []
  }
 ],
 "metadata": {
  "instance_type": "ml.t3.medium",
  "kernelspec": {
   "display_name": "Python 3 (Data Science)",
   "language": "python",
   "name": "python3__SAGEMAKER_INTERNAL__arn:aws:sagemaker:us-east-1:081325390199:image/datascience-1.0"
  },
  "language_info": {
   "codemirror_mode": {
    "name": "ipython",
    "version": 3
   },
   "file_extension": ".py",
   "mimetype": "text/x-python",
   "name": "python",
   "nbconvert_exporter": "python",
   "pygments_lexer": "ipython3",
   "version": "3.7.10"
  }
 },
 "nbformat": 4,
 "nbformat_minor": 4
}
